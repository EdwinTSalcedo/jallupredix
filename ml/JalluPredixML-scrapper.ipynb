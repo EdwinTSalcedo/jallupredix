{
  "nbformat": 4,
  "nbformat_minor": 0,
  "metadata": {
    "colab": {
      "name": "JalluPredixML1.ipynb",
      "provenance": [],
      "collapsed_sections": []
    },
    "kernelspec": {
      "display_name": "Python 3",
      "name": "python3"
    }
  },
  "cells": [
    {
      "cell_type": "markdown",
      "metadata": {
        "id": "c5iPK07J3yBV"
      },
      "source": [
        "# JalluPredix - Scrapper Module\n",
        "### Overview\n",
        "JalluPredix is an automatic system for real-time rainfall monitoring and prediction in Bolivia. It comprises two main parts: \n",
        "\n",
        "*   An IoT rain gauge built with Arduino and 3D printing\n",
        "*   A webapp developed with MeanJS.\n",
        "\n",
        "Since the device was initially meant to work in remote Bolivian towns and villages, the device has a GSM/GPRS component that sends the data every 24 hours. This collected data is processed with Python, Pandas, and Scikit-learn to make predictions using the ARIME model for every weather station. \n",
        "\n",
        "Data from public rain gauges takes an important role as the project aims to provide accurate predictions correlating data from different sources. \n",
        "\n",
        "### This file \n",
        "This notebook contains the code to scrape public data from the National Service of Meteorology and Hydrology in Bolivia [SENAMHI](https://www.senamhi.gob.bo/boletinmensual.php). Why scrapping? Mainly because the Bolivian government has still not released its environmental data in a friendly format. Currently, there are two ways to request this data: sending an email to SENAMHI, and using an old Flash app on their website that frequently breaks with new browsers. "
      ]
    },
    {
      "cell_type": "code",
      "metadata": {
        "colab": {
          "base_uri": "https://localhost:8080/"
        },
        "id": "nd7e_o42-Fk5",
        "outputId": "425eae07-4b7b-4cfd-c702-be46221e749c"
      },
      "source": [
        "# Installs dependencies\n",
        "!pip install selenium\n",
        "!apt-get update # to update ubuntu to correctly run apt install\n",
        "!apt install chromium-chromedriver\n",
        "!cp /usr/lib/chromium-browser/chromedriver /usr/bin"
      ],
      "execution_count": null,
      "outputs": [
        {
          "output_type": "stream",
          "text": [
            "Requirement already satisfied: selenium in /usr/local/lib/python3.6/dist-packages (3.141.0)\n",
            "Requirement already satisfied: urllib3 in /usr/local/lib/python3.6/dist-packages (from selenium) (1.24.3)\n",
            "Hit:1 http://security.ubuntu.com/ubuntu bionic-security InRelease\n",
            "Hit:2 http://archive.ubuntu.com/ubuntu bionic InRelease\n",
            "Hit:3 http://ppa.launchpad.net/c2d4u.team/c2d4u4.0+/ubuntu bionic InRelease\n",
            "Hit:4 http://archive.ubuntu.com/ubuntu bionic-updates InRelease\n",
            "Hit:5 http://ppa.launchpad.net/graphics-drivers/ppa/ubuntu bionic InRelease\n",
            "Hit:6 https://cloud.r-project.org/bin/linux/ubuntu bionic-cran40/ InRelease\n",
            "Hit:7 http://archive.ubuntu.com/ubuntu bionic-backports InRelease\n",
            "Ign:8 https://developer.download.nvidia.com/compute/cuda/repos/ubuntu1804/x86_64  InRelease\n",
            "Ign:9 https://developer.download.nvidia.com/compute/machine-learning/repos/ubuntu1804/x86_64  InRelease\n",
            "Hit:10 https://developer.download.nvidia.com/compute/cuda/repos/ubuntu1804/x86_64  Release\n",
            "Hit:11 https://developer.download.nvidia.com/compute/machine-learning/repos/ubuntu1804/x86_64  Release\n",
            "Reading package lists... Done\n",
            "Reading package lists... Done\n",
            "Building dependency tree       \n",
            "Reading state information... Done\n",
            "chromium-chromedriver is already the newest version (86.0.4240.198-0ubuntu0.18.04.1).\n",
            "0 upgraded, 0 newly installed, 0 to remove and 57 not upgraded.\n",
            "cp: '/usr/lib/chromium-browser/chromedriver' and '/usr/bin/chromedriver' are the same file\n"
          ],
          "name": "stdout"
        }
      ]
    },
    {
      "cell_type": "code",
      "metadata": {
        "colab": {
          "background_save": true,
          "base_uri": "https://localhost:8080/"
        },
        "id": "4ChnRD0Y9-6t",
        "outputId": "41cf679e-bfe9-480e-beb7-3f3ca8eba70e"
      },
      "source": [
        "# Reading and scraping daily rainfall data per station\n",
        "import sys\n",
        "sys.path.insert(0,'/usr/lib/chromium-browser/chromedriver')\n",
        "from selenium import webdriver\n",
        "import pandas as pd\n",
        "chrome_options = webdriver.ChromeOptions()\n",
        "chrome_options.add_argument('--headless')\n",
        "chrome_options.add_argument('--no-sandbox')\n",
        "chrome_options.add_argument('--disable-dev-shm-usage')\n",
        "browser = webdriver.Chrome('chromedriver',chrome_options=chrome_options)\n",
        "\n",
        "# Starts a chromium browser\n",
        "browser.get(\"https://www.senamhi.gob.bo/boletinmensual.php\")\n",
        "\n",
        "# \n",
        "def find_options_by_name(dropdown, index):\n",
        "  elem = browser.find_elements_by_name(dropdown)[index]\n",
        "  list = []\n",
        "  for option in elem.find_elements_by_tag_name('option'):\n",
        "    list.append(option.text)\n",
        "  return list\n",
        "\n",
        "def set_selection(dropdown, index, option):\n",
        "    elem = browser.find_elements_by_name(dropdown)[index]\n",
        "    for choice in elem.find_elements_by_tag_name('option'):\n",
        "        if choice.text == option:\n",
        "            choice.click()\n",
        "\n",
        "years = find_options_by_name('anio2',0)\n",
        "months = find_options_by_name('mes2',0)\n",
        "stations = find_options_by_name('estacion',0)\n",
        "\n",
        "records = []\n",
        "\n",
        "try: \n",
        "  for station in stations:\n",
        "    for year in years:\n",
        "      for month in months:\n",
        "        if station != \"Estación meteorológica\": \n",
        "          set_selection('anio2',0,year)\n",
        "          set_selection('mes2',0,month)\n",
        "          set_selection('estacion',0,station)\n",
        "\n",
        "          submit = browser.find_elements_by_name(\"Submit\")[0]\n",
        "          submit.click()\n",
        "\n",
        "          table = browser.find_element_by_id(\"myTable\")\n",
        "          count = 1\n",
        "          for row in table.find_elements_by_tag_name('tr'): \n",
        "            if count >= 3 and row.text != \"Datos no disponibles!!\":\n",
        "              \n",
        "              columns = row.find_elements_by_tag_name('td')\n",
        "              if len(columns) >= 2 and columns[0].text != \"Total acumulado:\":\n",
        "                date = columns[0].text;\n",
        "                precipitation = columns[1].text;\n",
        "                new_record = [station,date,precipitation]\n",
        "                records.append(new_record)\n",
        "              count += 1\n",
        "            else:\n",
        "              count += 1\n",
        "              continue\n",
        "\n",
        "          browser.back()\n",
        "\n",
        "        else: \n",
        "          continue\n",
        "\n",
        "  df = pd.DataFrame(records, columns=[\"station\",\"date\",\"precipitation\"])\n",
        "  df.to_csv('raining.csv', index=False)\n",
        "  print(\"Task finished\")\n",
        "  #!ls -lh\n",
        "except:\n",
        "  print(\"An exception occurred\")"
      ],
      "execution_count": null,
      "outputs": [
        {
          "output_type": "stream",
          "text": [
            "/usr/local/lib/python3.6/dist-packages/ipykernel_launcher.py:10: DeprecationWarning: use options instead of chrome_options\n",
            "  # Remove the CWD from sys.path while we load stuff.\n"
          ],
          "name": "stderr"
        },
        {
          "output_type": "stream",
          "text": [
            "An exception occurred\n"
          ],
          "name": "stdout"
        }
      ]
    },
    {
      "cell_type": "code",
      "metadata": {
        "colab": {
          "base_uri": "https://localhost:8080/",
          "height": 17
        },
        "id": "ErosiwNOqG8X",
        "outputId": "df8e92ea-554a-4cfc-b92e-7a4ed9ee7cc7"
      },
      "source": [
        "# Download the obtained csv file\n",
        "from google.colab import files\n",
        "files.download('raining.csv') "
      ],
      "execution_count": null,
      "outputs": [
        {
          "output_type": "display_data",
          "data": {
            "application/javascript": [
              "\n",
              "    async function download(id, filename, size) {\n",
              "      if (!google.colab.kernel.accessAllowed) {\n",
              "        return;\n",
              "      }\n",
              "      const div = document.createElement('div');\n",
              "      const label = document.createElement('label');\n",
              "      label.textContent = `Downloading \"${filename}\": `;\n",
              "      div.appendChild(label);\n",
              "      const progress = document.createElement('progress');\n",
              "      progress.max = size;\n",
              "      div.appendChild(progress);\n",
              "      document.body.appendChild(div);\n",
              "\n",
              "      const buffers = [];\n",
              "      let downloaded = 0;\n",
              "\n",
              "      const channel = await google.colab.kernel.comms.open(id);\n",
              "      // Send a message to notify the kernel that we're ready.\n",
              "      channel.send({})\n",
              "\n",
              "      for await (const message of channel.messages) {\n",
              "        // Send a message to notify the kernel that we're ready.\n",
              "        channel.send({})\n",
              "        if (message.buffers) {\n",
              "          for (const buffer of message.buffers) {\n",
              "            buffers.push(buffer);\n",
              "            downloaded += buffer.byteLength;\n",
              "            progress.value = downloaded;\n",
              "          }\n",
              "        }\n",
              "      }\n",
              "      const blob = new Blob(buffers, {type: 'application/binary'});\n",
              "      const a = document.createElement('a');\n",
              "      a.href = window.URL.createObjectURL(blob);\n",
              "      a.download = filename;\n",
              "      div.appendChild(a);\n",
              "      a.click();\n",
              "      div.remove();\n",
              "    }\n",
              "  "
            ],
            "text/plain": [
              "<IPython.core.display.Javascript object>"
            ]
          },
          "metadata": {
            "tags": []
          }
        },
        {
          "output_type": "display_data",
          "data": {
            "application/javascript": [
              "download(\"download_2a40306a-39f9-4172-be5a-71f17eeb5e67\", \"list.csv\", 20631)"
            ],
            "text/plain": [
              "<IPython.core.display.Javascript object>"
            ]
          },
          "metadata": {
            "tags": []
          }
        }
      ]
    },
    {
      "cell_type": "code",
      "metadata": {
        "id": "1IEXgNU6DdYX"
      },
      "source": [
        "# Reading and scraping monthly temperature data per station\n",
        "import sys\n",
        "sys.path.insert(0,'/usr/lib/chromium-browser/chromedriver')\n",
        "from selenium import webdriver\n",
        "import pandas as pd\n",
        "chrome_options = webdriver.ChromeOptions()\n",
        "chrome_options.add_argument('--headless')\n",
        "chrome_options.add_argument('--no-sandbox')\n",
        "chrome_options.add_argument('--disable-dev-shm-usage')\n",
        "browser = webdriver.Chrome('chromedriver',chrome_options=chrome_options)\n",
        "\n",
        "# Starts a chromium browser\n",
        "browser.get(\"https://www.senamhi.gob.bo/boletinmensual.php\")\n",
        "\n",
        "years = find_options_by_name('anio2',1)\n",
        "months = find_options_by_name('mes2',1)\n",
        "stations = find_options_by_name('estacion',1)\n",
        "\n",
        "records = []\n",
        "\n",
        "try: \n",
        "  for station in stations:\n",
        "    for year in years:\n",
        "      for month in months:\n",
        "        if station != \"Estación meteorológica\": \n",
        "          set_selection('anio2',1,year)\n",
        "          set_selection('mes2',1,month)\n",
        "          set_selection('estacion',1,station)\n",
        "\n",
        "          submit = browser.find_elements_by_name(\"Submit\")[1]\n",
        "          submit.click()\n",
        "\n",
        "          table = browser.find_element_by_id(\"myTable\")\n",
        "          count = 1\n",
        "          for row in table.find_elements_by_tag_name('tr'): \n",
        "            if count >= 3 and row.text != \"Datos no disponibles!!\":\n",
        "              \n",
        "              columns = row.find_elements_by_tag_name('td')\n",
        "              if len(columns) >= 3 and columns[0].text != \"Total acumulado:\": # review this text\n",
        "              \n",
        "                date = columns[0].text\n",
        "                min = columns[1].text\n",
        "                max = columns[2].text\n",
        "\n",
        "                new_record = [station,date,min,max]\n",
        "                records.append(new_record)\n",
        "              count += 1\n",
        "            else:\n",
        "              count += 1\n",
        "              continue\n",
        "\n",
        "          browser.back()\n",
        "\n",
        "        else: \n",
        "          continue\n",
        "\n",
        "  df = pd.DataFrame(records, columns=[\"station\",\"date\",\"min\",\"max\"])\n",
        "  df.to_csv('temperature.csv', index=False)\n",
        "  print(\"Task finished\")\n",
        "  #!ls -lh\n",
        "except:\n",
        "  print(\"An exception occurred\")"
      ],
      "execution_count": null,
      "outputs": []
    },
    {
      "cell_type": "code",
      "metadata": {
        "id": "mRCZy9S6FqGe"
      },
      "source": [
        "# Download the obtained csv file\n",
        "from google.colab import files\n",
        "files.download('temperature.csv') "
      ],
      "execution_count": null,
      "outputs": []
    }
  ]
}